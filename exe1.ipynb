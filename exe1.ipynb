{
  "cells": [
    {
      "cell_type": "markdown",
      "metadata": {
        "id": "view-in-github",
        "colab_type": "text"
      },
      "source": [
        "<a href=\"https://colab.research.google.com/github/noashafir97/timfit/blob/master/exe1.ipynb\" target=\"_parent\"><img src=\"https://colab.research.google.com/assets/colab-badge.svg\" alt=\"Open In Colab\"/></a>"
      ]
    },
    {
      "cell_type": "code",
      "execution_count": 2,
      "metadata": {
        "id": "MWL048NZY19L",
        "colab": {
          "base_uri": "https://localhost:8080/"
        },
        "outputId": "d2e506f7-a551-4d1f-a429-e9f381c43476"
      },
      "outputs": [
        {
          "output_type": "stream",
          "name": "stdout",
          "text": [
            "2.7.0\n"
          ]
        }
      ],
      "source": [
        "# TensorFlow and tf.keras\n",
        "import tensorflow as tf\n",
        "\n",
        "# Helper libraries\n",
        "import numpy as np\n",
        "import matplotlib.pyplot as plt\n",
        "from keras.preprocessing.image import ImageDataGenerator\n",
        "print(tf.__version__)\n"
      ]
    },
    {
      "cell_type": "code",
      "execution_count": 3,
      "metadata": {
        "id": "DEpb4dtLY5OL",
        "colab": {
          "base_uri": "https://localhost:8080/"
        },
        "outputId": "06d301e7-68b6-4615-c67e-4da7c7ad64b0"
      },
      "outputs": [
        {
          "output_type": "stream",
          "name": "stdout",
          "text": [
            "Drive already mounted at /content/drive; to attempt to forcibly remount, call drive.mount(\"/content/drive\", force_remount=True).\n"
          ]
        }
      ],
      "source": [
        "\n",
        "from google.colab import drive\n",
        "drive.mount('/content/drive')"
      ]
    },
    {
      "cell_type": "code",
      "execution_count": 4,
      "metadata": {
        "id": "NSWgyJH4ZOvU",
        "colab": {
          "base_uri": "https://localhost:8080/"
        },
        "outputId": "4c9c5fcd-c5ae-4f42-8b76-80af3f0bbab3"
      },
      "outputs": [
        {
          "output_type": "stream",
          "name": "stdout",
          "text": [
            "Found 12003 images belonging to 3 classes.\n",
            "Found 3000 images belonging to 3 classes.\n"
          ]
        }
      ],
      "source": [
        "\n",
        "train_datagen = ImageDataGenerator(rescale = 1./255,\n",
        "                                   shear_range = 0.2,\n",
        "                                   zoom_range = 0.2,\n",
        "                                   horizontal_flip = True,\n",
        "                                   validation_split=0.2)\n",
        "training_set = train_datagen.flow_from_directory('/content/drive/MyDrive/deep learning/mission1/dataset (1).rar (Unzipped Files)/dataset/training_set',\n",
        "                                                 target_size = (32, 32),\n",
        "                                                 batch_size = 32,\n",
        "                                                 class_mode = 'categorical',\n",
        "                                                 subset='training')\n",
        "validation_set = train_datagen.flow_from_directory('/content/drive/MyDrive/deep learning/mission1/dataset (1).rar (Unzipped Files)/dataset/training_set',\n",
        "                                                 target_size = (32, 32),\n",
        "                                                 batch_size = 32,\n",
        "                                                 class_mode = 'categorical',\n",
        "                                                 subset='validation')"
      ]
    },
    {
      "cell_type": "code",
      "execution_count": 5,
      "metadata": {
        "id": "OhLplWvH1-d7",
        "colab": {
          "base_uri": "https://localhost:8080/"
        },
        "outputId": "5731fffe-ade4-464b-db99-aa06a2dbb0b6"
      },
      "outputs": [
        {
          "output_type": "stream",
          "name": "stdout",
          "text": [
            "Found 2999 images belonging to 3 classes.\n"
          ]
        }
      ],
      "source": [
        "test_datagen = ImageDataGenerator(rescale = 1./255)\n",
        "test_set = test_datagen.flow_from_directory('/content/drive/MyDrive/deep learning/mission1/dataset (1).rar (Unzipped Files)/dataset/test_set',\n",
        "                                            target_size = (32, 32),\n",
        "                                            batch_size = 32,\n",
        "                                            class_mode = 'categorical')"
      ]
    },
    {
      "cell_type": "code",
      "execution_count": 6,
      "metadata": {
        "id": "QrL0Jd6d7RP-"
      },
      "outputs": [],
      "source": [
        "cnn = tf.keras.models.Sequential()"
      ]
    },
    {
      "cell_type": "code",
      "execution_count": 7,
      "metadata": {
        "id": "9JQuk4HecjEK"
      },
      "outputs": [],
      "source": [
        "cnn.add(tf.keras.layers.Conv2D(filters=32, kernel_size=3, activation='relu', input_shape=[32, 32, 3]))"
      ]
    },
    {
      "cell_type": "code",
      "execution_count": 8,
      "metadata": {
        "id": "2j0PZDzvcmqa"
      },
      "outputs": [],
      "source": [
        "cnn.add(tf.keras.layers.MaxPool2D(pool_size=2, strides=2))"
      ]
    },
    {
      "cell_type": "code",
      "execution_count": 9,
      "metadata": {
        "id": "bpm-TDhIcq4d"
      },
      "outputs": [],
      "source": [
        "cnn.add(tf.keras.layers.Conv2D(filters=32, kernel_size=3, activation='relu'))\n",
        "cnn.add(tf.keras.layers.MaxPool2D(pool_size=2, strides=2))"
      ]
    },
    {
      "cell_type": "code",
      "execution_count": 10,
      "metadata": {
        "id": "XNG_qXQscuDJ"
      },
      "outputs": [],
      "source": [
        "\n",
        "cnn.add(tf.keras.layers.Flatten())"
      ]
    },
    {
      "cell_type": "code",
      "execution_count": 11,
      "metadata": {
        "id": "dh5bZ80xcxhD"
      },
      "outputs": [],
      "source": [
        "cnn.add(tf.keras.layers.Dense(units=128, activation='relu'))"
      ]
    },
    {
      "cell_type": "code",
      "execution_count": 12,
      "metadata": {
        "id": "q9FnUfJmcz7T"
      },
      "outputs": [],
      "source": [
        "\n",
        "cnn.add(tf.keras.layers.Dense(units=3, activation='softmax'))"
      ]
    },
    {
      "cell_type": "code",
      "execution_count": 13,
      "metadata": {
        "colab": {
          "base_uri": "https://localhost:8080/"
        },
        "id": "sLyZQzKsc2AE",
        "outputId": "6cd64d9d-850b-46a8-cef6-11a22cbbda48"
      },
      "outputs": [
        {
          "output_type": "stream",
          "name": "stdout",
          "text": [
            "Model: \"sequential\"\n",
            "_________________________________________________________________\n",
            " Layer (type)                Output Shape              Param #   \n",
            "=================================================================\n",
            " conv2d (Conv2D)             (None, 30, 30, 32)        896       \n",
            "                                                                 \n",
            " max_pooling2d (MaxPooling2D  (None, 15, 15, 32)       0         \n",
            " )                                                               \n",
            "                                                                 \n",
            " conv2d_1 (Conv2D)           (None, 13, 13, 32)        9248      \n",
            "                                                                 \n",
            " max_pooling2d_1 (MaxPooling  (None, 6, 6, 32)         0         \n",
            " 2D)                                                             \n",
            "                                                                 \n",
            " flatten (Flatten)           (None, 1152)              0         \n",
            "                                                                 \n",
            " dense (Dense)               (None, 128)               147584    \n",
            "                                                                 \n",
            " dense_1 (Dense)             (None, 3)                 387       \n",
            "                                                                 \n",
            "=================================================================\n",
            "Total params: 158,115\n",
            "Trainable params: 158,115\n",
            "Non-trainable params: 0\n",
            "_________________________________________________________________\n"
          ]
        }
      ],
      "source": [
        "cnn.summary()"
      ]
    },
    {
      "cell_type": "code",
      "execution_count": 14,
      "metadata": {
        "id": "LTDHhbWxc8GF"
      },
      "outputs": [],
      "source": [
        "cnn.compile(optimizer = 'adam', loss = 'categorical_crossentropy', metrics = ['accuracy'])"
      ]
    },
    {
      "cell_type": "code",
      "execution_count": 15,
      "metadata": {
        "colab": {
          "base_uri": "https://localhost:8080/"
        },
        "id": "G15CyO4hdg57",
        "outputId": "464fc4cb-b441-4960-8953-81f2ebaa6391"
      },
      "outputs": [
        {
          "output_type": "stream",
          "name": "stdout",
          "text": [
            "Epoch 1/25\n",
            "376/376 [==============================] - 1256s 3s/step - loss: 0.7240 - accuracy: 0.6770 - val_loss: 0.5710 - val_accuracy: 0.7583\n",
            "Epoch 2/25\n",
            "376/376 [==============================] - 49s 130ms/step - loss: 0.5797 - accuracy: 0.7560 - val_loss: 0.5124 - val_accuracy: 0.7817\n",
            "Epoch 3/25\n",
            "376/376 [==============================] - 47s 126ms/step - loss: 0.5317 - accuracy: 0.7753 - val_loss: 0.5288 - val_accuracy: 0.7797\n",
            "Epoch 4/25\n",
            "376/376 [==============================] - 48s 127ms/step - loss: 0.4936 - accuracy: 0.7961 - val_loss: 0.4362 - val_accuracy: 0.8230\n",
            "Epoch 5/25\n",
            "376/376 [==============================] - 48s 127ms/step - loss: 0.4596 - accuracy: 0.8146 - val_loss: 0.4520 - val_accuracy: 0.8080\n",
            "Epoch 6/25\n",
            "376/376 [==============================] - 49s 130ms/step - loss: 0.4311 - accuracy: 0.8230 - val_loss: 0.4746 - val_accuracy: 0.7973\n",
            "Epoch 7/25\n",
            "376/376 [==============================] - 49s 131ms/step - loss: 0.4267 - accuracy: 0.8284 - val_loss: 0.4086 - val_accuracy: 0.8373\n",
            "Epoch 8/25\n",
            "376/376 [==============================] - 49s 131ms/step - loss: 0.4067 - accuracy: 0.8365 - val_loss: 0.4060 - val_accuracy: 0.8403\n",
            "Epoch 9/25\n",
            "376/376 [==============================] - 50s 132ms/step - loss: 0.3908 - accuracy: 0.8457 - val_loss: 0.4332 - val_accuracy: 0.8253\n",
            "Epoch 10/25\n",
            "376/376 [==============================] - 49s 132ms/step - loss: 0.3702 - accuracy: 0.8516 - val_loss: 0.3910 - val_accuracy: 0.8467\n",
            "Epoch 11/25\n",
            "376/376 [==============================] - 50s 133ms/step - loss: 0.3667 - accuracy: 0.8541 - val_loss: 0.4079 - val_accuracy: 0.8320\n",
            "Epoch 12/25\n",
            "376/376 [==============================] - 49s 129ms/step - loss: 0.3494 - accuracy: 0.8597 - val_loss: 0.3765 - val_accuracy: 0.8437\n",
            "Epoch 13/25\n",
            "376/376 [==============================] - 50s 134ms/step - loss: 0.3266 - accuracy: 0.8722 - val_loss: 0.4081 - val_accuracy: 0.8293\n",
            "Epoch 14/25\n",
            "376/376 [==============================] - 48s 129ms/step - loss: 0.3205 - accuracy: 0.8724 - val_loss: 0.3782 - val_accuracy: 0.8577\n",
            "Epoch 15/25\n",
            "376/376 [==============================] - 52s 139ms/step - loss: 0.3079 - accuracy: 0.8774 - val_loss: 0.3814 - val_accuracy: 0.8547\n",
            "Epoch 16/25\n",
            "376/376 [==============================] - 50s 132ms/step - loss: 0.2945 - accuracy: 0.8815 - val_loss: 0.3600 - val_accuracy: 0.8613\n",
            "Epoch 17/25\n",
            "376/376 [==============================] - 49s 131ms/step - loss: 0.2833 - accuracy: 0.8898 - val_loss: 0.3647 - val_accuracy: 0.8643\n",
            "Epoch 18/25\n",
            "376/376 [==============================] - 51s 135ms/step - loss: 0.2663 - accuracy: 0.8939 - val_loss: 0.3937 - val_accuracy: 0.8493\n",
            "Epoch 19/25\n",
            "376/376 [==============================] - 50s 132ms/step - loss: 0.2641 - accuracy: 0.8975 - val_loss: 0.3815 - val_accuracy: 0.8523\n",
            "Epoch 20/25\n",
            "376/376 [==============================] - 50s 133ms/step - loss: 0.2577 - accuracy: 0.8994 - val_loss: 0.3791 - val_accuracy: 0.8527\n",
            "Epoch 21/25\n",
            "376/376 [==============================] - 52s 137ms/step - loss: 0.2382 - accuracy: 0.9085 - val_loss: 0.3621 - val_accuracy: 0.8650\n",
            "Epoch 22/25\n",
            "376/376 [==============================] - 48s 128ms/step - loss: 0.2367 - accuracy: 0.9082 - val_loss: 0.3975 - val_accuracy: 0.8507\n",
            "Epoch 23/25\n",
            "376/376 [==============================] - 50s 133ms/step - loss: 0.2322 - accuracy: 0.9084 - val_loss: 0.3870 - val_accuracy: 0.8553\n",
            "Epoch 24/25\n",
            "376/376 [==============================] - 53s 140ms/step - loss: 0.2151 - accuracy: 0.9164 - val_loss: 0.3504 - val_accuracy: 0.8677\n",
            "Epoch 25/25\n",
            "376/376 [==============================] - 50s 132ms/step - loss: 0.2147 - accuracy: 0.9174 - val_loss: 0.3919 - val_accuracy: 0.8607\n"
          ]
        }
      ],
      "source": [
        "history = cnn.fit(x = training_set, validation_data = validation_set, epochs = 25)\n"
      ]
    },
    {
      "cell_type": "code",
      "execution_count": 20,
      "metadata": {
        "id": "ToNUT_O74UDU",
        "colab": {
          "base_uri": "https://localhost:8080/"
        },
        "outputId": "b9b2bb7a-3d6a-4a3f-fa13-3ec311395321"
      },
      "outputs": [
        {
          "output_type": "stream",
          "name": "stdout",
          "text": [
            "94/94 [==============================] - 593s 6s/step - loss: 0.3793 - accuracy: 0.8653\n"
          ]
        },
        {
          "output_type": "execute_result",
          "data": {
            "text/plain": [
              "[0.3793190121650696, 0.8652884364128113]"
            ]
          },
          "metadata": {},
          "execution_count": 20
        }
      ],
      "source": [
        "cnn.evaluate(test_set)    "
      ]
    },
    {
      "cell_type": "code",
      "execution_count": 22,
      "metadata": {
        "id": "i64hqG8ByxW7"
      },
      "outputs": [],
      "source": [
        "def prediction_result(result):\n",
        "  if result[0][0] >0:\n",
        "    prediction = 'airplane'\n",
        "  elif result[0][1] > 0:\n",
        "    prediction = 'bird'\n",
        "  elif result[0][2] > 0 :\n",
        "    prediction = 'frog'\n",
        "  print(\"predict class : \" + prediction)"
      ]
    },
    {
      "cell_type": "code",
      "execution_count": 23,
      "metadata": {
        "id": "-xODSh0IdjVj",
        "colab": {
          "base_uri": "https://localhost:8080/"
        },
        "outputId": "eff6711b-80d4-4579-995a-3853ee63f7c2"
      },
      "outputs": [
        {
          "output_type": "stream",
          "name": "stdout",
          "text": [
            "predict class : bird\n"
          ]
        }
      ],
      "source": [
        "import numpy as np\n",
        "from keras.preprocessing import image\n",
        "test_image = image.load_img('/content/drive/MyDrive/deep learning/mission1/dataset (1).rar (Unzipped Files)/dataset/test_set/bird/0124.jpg', target_size = (32, 32))\n",
        "test_image = image.img_to_array(test_image)\n",
        "test_image = np.expand_dims(test_image, axis = 0)\n",
        "result = cnn.predict(test_image)\n",
        "training_set.class_indices\n",
        "prediction_result(result)"
      ]
    },
    {
      "cell_type": "code",
      "source": [
        "test_image = image.load_img('/content/drive/MyDrive/deep learning/mission1/dataset (1).rar (Unzipped Files)/dataset/test_set/airplane/0124.jpg', target_size = (32, 32))\n",
        "test_image = image.img_to_array(test_image)\n",
        "test_image = np.expand_dims(test_image, axis = 0)\n",
        "result = cnn.predict(test_image)\n",
        "training_set.class_indices\n",
        "prediction_result(result)"
      ],
      "metadata": {
        "colab": {
          "base_uri": "https://localhost:8080/"
        },
        "id": "bZkpQu01Hp76",
        "outputId": "22a806e4-06fa-46a5-9075-f494f1549c8e"
      },
      "execution_count": 24,
      "outputs": [
        {
          "output_type": "stream",
          "name": "stdout",
          "text": [
            "predict class : airplane\n"
          ]
        }
      ]
    },
    {
      "cell_type": "code",
      "source": [
        "test_image = image.load_img('/content/drive/MyDrive/deep learning/mission1/dataset (1).rar (Unzipped Files)/dataset/test_set/frog/0124.jpg', target_size = (32, 32))\n",
        "test_image = image.img_to_array(test_image)\n",
        "test_image = np.expand_dims(test_image, axis = 0)\n",
        "result = cnn.predict(test_image)\n",
        "training_set.class_indices\n",
        "prediction_result(result)"
      ],
      "metadata": {
        "colab": {
          "base_uri": "https://localhost:8080/"
        },
        "id": "45YmmDRRHqQv",
        "outputId": "3feb2484-b036-4a3a-9ab1-295e3d8836db"
      },
      "execution_count": 25,
      "outputs": [
        {
          "output_type": "stream",
          "name": "stdout",
          "text": [
            "predict class : frog\n"
          ]
        }
      ]
    },
    {
      "cell_type": "code",
      "execution_count": 26,
      "metadata": {
        "id": "sbTxAEf90Bci",
        "colab": {
          "base_uri": "https://localhost:8080/",
          "height": 294
        },
        "outputId": "c54c1379-74a8-4c4d-ef90-12ad2ac2c501"
      },
      "outputs": [
        {
          "output_type": "display_data",
          "data": {
            "image/png": "[encoded data removed]",
            "text/plain": [
              "<Figure size 432x288 with 1 Axes>"
            ]
          },
          "metadata": {
            "needs_background": "light"
          }
        }
      ],
      "source": [
        "from matplotlib import pyplot as plt\n",
        "plt.plot(history.history['loss'])\n",
        "plt.plot(history.history['val_loss'])\n",
        "plt.title('model loss')\n",
        "plt.ylabel('loss')\n",
        "plt.xlabel('epoch')\n",
        "plt.legend(['train', 'val'], loc='upper left')\n",
        "plt.show()"
      ]
    },
    {
      "cell_type": "code",
      "execution_count": 27,
      "metadata": {
        "id": "fxZlylip1QEb",
        "colab": {
          "base_uri": "https://localhost:8080/",
          "height": 294
        },
        "outputId": "11d6d393-6857-4f38-8c3e-c62da4163c5a"
      },
      "outputs": [
        {
          "output_type": "display_data",
          "data": {
            "image/png": "[encoded data removed]",
            "text/plain": [
              "<Figure size 432x288 with 1 Axes>"
            ]
          },
          "metadata": {
            "needs_background": "light"
          }
        }
      ],
      "source": [
        "plt.plot(history.history['accuracy'])\n",
        "plt.plot(history.history['val_accuracy'])\n",
        "plt.title('model accuracy')\n",
        "plt.ylabel('accuracy')\n",
        "plt.xlabel('epoch')\n",
        "plt.legend(['train', 'val'], loc='upper left')\n",
        "plt.show()"
      ]
    }
  ],
  "metadata": {
    "accelerator": "TPU",
    "colab": {
      "collapsed_sections": [],
      "name": "exe1.ipynb",
      "provenance": [],
      "authorship_tag": "ABX9TyO2iKVZcmW0GnAbFO6MKoPJ",
      "include_colab_link": true
    },
    "kernelspec": {
      "display_name": "Python 3",
      "name": "python3"
    },
    "language_info": {
      "name": "python"
    }
  },
  "nbformat": 4,
  "nbformat_minor": 0
}